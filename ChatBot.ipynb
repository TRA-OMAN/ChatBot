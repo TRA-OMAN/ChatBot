{
 "cells": [
  {
   "cell_type": "code",
   "execution_count": 1,
   "metadata": {},
   "outputs": [],
   "source": [
    "from nltk.chat.util import Chat, reflections "
   ]
  },
  {
   "cell_type": "code",
   "execution_count": 2,
   "metadata": {},
   "outputs": [],
   "source": [
    "paris = [\n",
    "    ['(.*)', ['This is Helpdesk, \\nFor Network issue write 1 \\nFor Sharepoint issue write 2 \\nFor ERP issue  write 3' ]]\n",
    "] "
   ]
  },
  {
   "cell_type": "code",
   "execution_count": null,
   "metadata": {},
   "outputs": [
    {
     "name": "stdout",
     "output_type": "stream",
     "text": [
      ">1\n",
      "This is TRA Helpdesk, \n",
      "For Network issue write 1 \n",
      "For Sharepoint issue write 2 \n",
      "For ERP & CRM issue  write 3\n",
      ">2\n",
      "This is TRA Helpdesk, \n",
      "For Network issue write 1 \n",
      "For Sharepoint issue write 2 \n",
      "For ERP & CRM issue  write 3\n"
     ]
    }
   ],
   "source": [
    "chat = Chat(paris)\n",
    "chat.converse()"
   ]
  },
  {
   "cell_type": "code",
   "execution_count": null,
   "metadata": {},
   "outputs": [],
   "source": []
  }
 ],
 "metadata": {
  "kernelspec": {
   "display_name": "Python 3",
   "language": "python",
   "name": "python3"
  },
  "language_info": {
   "codemirror_mode": {
    "name": "ipython",
    "version": 3
   },
   "file_extension": ".py",
   "mimetype": "text/x-python",
   "name": "python",
   "nbconvert_exporter": "python",
   "pygments_lexer": "ipython3",
   "version": "3.8.3"
  }
 },
 "nbformat": 4,
 "nbformat_minor": 4
}
